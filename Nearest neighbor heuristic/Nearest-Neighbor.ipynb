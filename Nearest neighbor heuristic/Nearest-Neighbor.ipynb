{
 "cells": [
  {
   "cell_type": "code",
   "execution_count": 21,
   "id": "58696645",
   "metadata": {},
   "outputs": [],
   "source": [
    "class City:\n",
    "    def __init__(self, n, x, y):\n",
    "        self.name = n\n",
    "        self.x = x\n",
    "        self.y = y\n",
    "        \n",
    "    def __repr__(self):\n",
    "        return 'City: ' + str(self.name) + ' ' + str(self.x) + ' ' + str(self.y) + '\\n'"
   ]
  },
  {
   "cell_type": "code",
   "execution_count": 22,
   "id": "77a8ecd2",
   "metadata": {},
   "outputs": [],
   "source": [
    "import math\n",
    "import random\n",
    "import numpy as np\n",
    "import pandas as pd\n",
    "import time\n",
    "import matplotlib.pyplot as plt\n",
    "%matplotlib qt"
   ]
  },
  {
   "cell_type": "code",
   "execution_count": 23,
   "id": "5a12b7c3",
   "metadata": {},
   "outputs": [],
   "source": [
    "def gen_dist_matrix(data):\n",
    "    n = len(data)\n",
    "    mat = [[0]*n for i in range(n)]\n",
    "    for i,point in enumerate(data): # point -> city\n",
    "        for j in range(i+1, n):\n",
    "            p2 = data[j]\n",
    "            mat[i][j] = math.dist([point.x , point.y], [p2.x, p2.y])\n",
    "            mat[j][i] = math.dist([point.x , point.y], [p2.x, p2.y])\n",
    "    return mat"
   ]
  },
  {
   "cell_type": "code",
   "execution_count": 24,
   "id": "3e977f85",
   "metadata": {},
   "outputs": [],
   "source": [
    "def rand_start_point(n):\n",
    "    return int(random.random()*n)"
   ]
  },
  {
   "cell_type": "code",
   "execution_count": 25,
   "id": "b17098e4",
   "metadata": {},
   "outputs": [],
   "source": [
    "def choose_nearest_point(cur, data, mat, vis):\n",
    "    min_dist = np.inf\n",
    "    min_i = -1\n",
    "    for i in range(len(vis)):\n",
    "        if mat[cur][i] <  min_dist and vis[i] != 1:\n",
    "            min_dist = mat[cur][i]\n",
    "            min_i = i\n",
    "    return min_i, min_dist"
   ]
  },
  {
   "cell_type": "code",
   "execution_count": null,
   "id": "c9ef5903",
   "metadata": {},
   "outputs": [],
   "source": [
    "# # to take input from the GUI\n",
    "# plt.plot(0,0)\n",
    "# d = plt.ginput(10)\n",
    "# data = [City(c,p[0],p[1]) for c,p in enumerate(d)]\n",
    "# print(data)"
   ]
  },
  {
   "cell_type": "code",
   "execution_count": 26,
   "id": "93848b64",
   "metadata": {
    "scrolled": true
   },
   "outputs": [
    {
     "data": {
      "text/html": [
       "<div>\n",
       "<style scoped>\n",
       "    .dataframe tbody tr th:only-of-type {\n",
       "        vertical-align: middle;\n",
       "    }\n",
       "\n",
       "    .dataframe tbody tr th {\n",
       "        vertical-align: top;\n",
       "    }\n",
       "\n",
       "    .dataframe thead th {\n",
       "        text-align: right;\n",
       "    }\n",
       "</style>\n",
       "<table border=\"1\" class=\"dataframe\">\n",
       "  <thead>\n",
       "    <tr style=\"text-align: right;\">\n",
       "      <th></th>\n",
       "      <th>x</th>\n",
       "      <th>y</th>\n",
       "      <th>City</th>\n",
       "    </tr>\n",
       "  </thead>\n",
       "  <tbody>\n",
       "    <tr>\n",
       "      <th>0</th>\n",
       "      <td>5.500000e-08</td>\n",
       "      <td>9.860000e-09</td>\n",
       "      <td>1</td>\n",
       "    </tr>\n",
       "    <tr>\n",
       "      <th>1</th>\n",
       "      <td>-2.887330e+01</td>\n",
       "      <td>-7.980000e-08</td>\n",
       "      <td>2</td>\n",
       "    </tr>\n",
       "    <tr>\n",
       "      <th>2</th>\n",
       "      <td>-7.929160e+01</td>\n",
       "      <td>-2.140330e+01</td>\n",
       "      <td>3</td>\n",
       "    </tr>\n",
       "    <tr>\n",
       "      <th>3</th>\n",
       "      <td>-1.465770e+01</td>\n",
       "      <td>-4.338960e+01</td>\n",
       "      <td>4</td>\n",
       "    </tr>\n",
       "    <tr>\n",
       "      <th>4</th>\n",
       "      <td>-6.474730e+01</td>\n",
       "      <td>2.189820e+01</td>\n",
       "      <td>5</td>\n",
       "    </tr>\n",
       "    <tr>\n",
       "      <th>5</th>\n",
       "      <td>-2.905850e+01</td>\n",
       "      <td>-4.321670e+01</td>\n",
       "      <td>6</td>\n",
       "    </tr>\n",
       "    <tr>\n",
       "      <th>6</th>\n",
       "      <td>-7.207850e+01</td>\n",
       "      <td>1.815810e-01</td>\n",
       "      <td>7</td>\n",
       "    </tr>\n",
       "    <tr>\n",
       "      <th>7</th>\n",
       "      <td>-3.603660e+01</td>\n",
       "      <td>-2.161350e+01</td>\n",
       "      <td>8</td>\n",
       "    </tr>\n",
       "    <tr>\n",
       "      <th>8</th>\n",
       "      <td>-5.048080e+01</td>\n",
       "      <td>7.374470e+00</td>\n",
       "      <td>9</td>\n",
       "    </tr>\n",
       "    <tr>\n",
       "      <th>9</th>\n",
       "      <td>-5.058590e+01</td>\n",
       "      <td>-2.158820e+01</td>\n",
       "      <td>10</td>\n",
       "    </tr>\n",
       "    <tr>\n",
       "      <th>10</th>\n",
       "      <td>-1.358190e-01</td>\n",
       "      <td>-2.872930e+01</td>\n",
       "      <td>11</td>\n",
       "    </tr>\n",
       "    <tr>\n",
       "      <th>11</th>\n",
       "      <td>-6.508660e+01</td>\n",
       "      <td>-3.606250e+01</td>\n",
       "      <td>12</td>\n",
       "    </tr>\n",
       "    <tr>\n",
       "      <th>12</th>\n",
       "      <td>-2.149830e+01</td>\n",
       "      <td>7.319420e+00</td>\n",
       "      <td>13</td>\n",
       "    </tr>\n",
       "    <tr>\n",
       "      <th>13</th>\n",
       "      <td>-5.756870e+01</td>\n",
       "      <td>-4.325060e+01</td>\n",
       "      <td>14</td>\n",
       "    </tr>\n",
       "    <tr>\n",
       "      <th>14</th>\n",
       "      <td>-4.307000e+01</td>\n",
       "      <td>1.455480e+01</td>\n",
       "      <td>15</td>\n",
       "    </tr>\n",
       "  </tbody>\n",
       "</table>\n",
       "</div>"
      ],
      "text/plain": [
       "               x             y  City\n",
       "0   5.500000e-08  9.860000e-09     1\n",
       "1  -2.887330e+01 -7.980000e-08     2\n",
       "2  -7.929160e+01 -2.140330e+01     3\n",
       "3  -1.465770e+01 -4.338960e+01     4\n",
       "4  -6.474730e+01  2.189820e+01     5\n",
       "5  -2.905850e+01 -4.321670e+01     6\n",
       "6  -7.207850e+01  1.815810e-01     7\n",
       "7  -3.603660e+01 -2.161350e+01     8\n",
       "8  -5.048080e+01  7.374470e+00     9\n",
       "9  -5.058590e+01 -2.158820e+01    10\n",
       "10 -1.358190e-01 -2.872930e+01    11\n",
       "11 -6.508660e+01 -3.606250e+01    12\n",
       "12 -2.149830e+01  7.319420e+00    13\n",
       "13 -5.756870e+01 -4.325060e+01    14\n",
       "14 -4.307000e+01  1.455480e+01    15"
      ]
     },
     "execution_count": 26,
     "metadata": {},
     "output_type": "execute_result"
    }
   ],
   "source": [
    "# raw = pd.read_csv('Data Set.csv')\n",
    "raw = pd.read_csv('15-Points.csv')\n",
    "raw"
   ]
  },
  {
   "cell_type": "code",
   "execution_count": null,
   "id": "67260164",
   "metadata": {},
   "outputs": [],
   "source": []
  },
  {
   "cell_type": "code",
   "execution_count": 27,
   "id": "cb0c7a00",
   "metadata": {},
   "outputs": [
    {
     "name": "stdout",
     "output_type": "stream",
     "text": [
      "City: 1 5.5e-08 9.86e-09\n",
      "\n"
     ]
    }
   ],
   "source": [
    "data = [City(c,x,y) for c,x,y in zip(raw['City'], raw['x'], raw['y'])]\n",
    "print(data[0])"
   ]
  },
  {
   "cell_type": "code",
   "execution_count": 28,
   "id": "b26804d6",
   "metadata": {
    "scrolled": true
   },
   "outputs": [
    {
     "name": "stdout",
     "output_type": "stream",
     "text": [
      "total cost =  284.3810904080332\n"
     ]
    }
   ],
   "source": [
    "n = len(data)\n",
    "#visited matrix\n",
    "vis = [0] * n\n",
    "\n",
    "# Generate distance matrix\n",
    "dist_mat = gen_dist_matrix(data)\n",
    "\n",
    "# intialize output\n",
    "res = []\n",
    "total_cost = 0\n",
    "\n",
    "# random choose first point 'city' in the soluion\n",
    "cur = rand_start_point(n)\n",
    "\n",
    "# append first element\n",
    "res.append(data[cur])\n",
    "vis[cur] = 1\n",
    "while sum(vis) < n:\n",
    "    i, dist = choose_nearest_point(cur, data, dist_mat, vis)\n",
    "    res.append(data[i])\n",
    "    vis[i] = 1\n",
    "    total_cost += dist\n",
    "    \n",
    "    cur = i\n",
    "\n",
    "# add distance of traveling from the last city to the first one\n",
    "total_cost += dist_mat[0][cur]\n",
    "\n",
    "# print('Cities', res)\n",
    "print('total cost = ', total_cost)"
   ]
  },
  {
   "cell_type": "code",
   "execution_count": 29,
   "id": "f9659826",
   "metadata": {},
   "outputs": [],
   "source": [
    "from matplotlib.animation import FuncAnimation"
   ]
  },
  {
   "cell_type": "code",
   "execution_count": 30,
   "id": "51d3dd0d",
   "metadata": {},
   "outputs": [],
   "source": [
    "x = []\n",
    "y = []\n",
    "for s in res:\n",
    "    x.append(s.x)\n",
    "    y.append(s.y)\n",
    "x.append(res[0].x)\n",
    "y.append(res[0].y)\n",
    "\n",
    "fig, ax = plt.subplots()\n",
    "\n",
    "def animate(i):\n",
    "    ax.clear()\n",
    "    ax.plot(x[:i+1], y[:i+1], marker = 'o')\n",
    "\n",
    "    plt.ylim(-50, 30)\n",
    "    plt.xlim(-90, 10)\n",
    "\n",
    "ani = FuncAnimation(fig, animate, frames=20, interval=300, repeat=False)\n",
    "plt.show()"
   ]
  },
  {
   "cell_type": "code",
   "execution_count": null,
   "id": "ce0ca777",
   "metadata": {},
   "outputs": [],
   "source": []
  },
  {
   "cell_type": "code",
   "execution_count": null,
   "id": "4c5c5e46",
   "metadata": {},
   "outputs": [],
   "source": []
  }
 ],
 "metadata": {
  "kernelspec": {
   "display_name": "Python 3 (ipykernel)",
   "language": "python",
   "name": "python3"
  },
  "language_info": {
   "codemirror_mode": {
    "name": "ipython",
    "version": 3
   },
   "file_extension": ".py",
   "mimetype": "text/x-python",
   "name": "python",
   "nbconvert_exporter": "python",
   "pygments_lexer": "ipython3",
   "version": "3.9.13"
  }
 },
 "nbformat": 4,
 "nbformat_minor": 5
}
