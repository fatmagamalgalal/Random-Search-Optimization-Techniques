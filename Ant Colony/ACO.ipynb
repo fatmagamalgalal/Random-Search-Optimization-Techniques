{
 "cells": [
  {
   "cell_type": "code",
   "execution_count": 22,
   "id": "63194f1d",
   "metadata": {},
   "outputs": [],
   "source": [
    "class City:\n",
    "    def __init__(self, n, x, y):\n",
    "        self.name = n\n",
    "        self.x = x\n",
    "        self.y = y\n",
    "        \n",
    "    def __repr__(self):\n",
    "        return 'City: ' + str(self.name) + ' ' + str(self.x) + ' ' + str(self.y) + '\\n'"
   ]
  },
  {
   "cell_type": "code",
   "execution_count": 23,
   "id": "dbfb0f0f",
   "metadata": {},
   "outputs": [],
   "source": [
    "class Path:\n",
    "    def __init__(self, lst):\n",
    "        self.val = lst\n",
    "        self.fitness = -1\n",
    "        self.cost = -1\n",
    "    \n",
    "    def set_fitness(self,cost):\n",
    "        self.cost = cost\n",
    "        self.fitness = 1.0/cost\n",
    "\n",
    "    def __repr__(self):\n",
    "        print(self.val)\n",
    "        print(self.cost)\n",
    "        return ''"
   ]
  },
  {
   "cell_type": "code",
   "execution_count": 24,
   "id": "d0d2282d",
   "metadata": {},
   "outputs": [],
   "source": [
    "import math\n",
    "import random\n",
    "import numpy as np\n",
    "import pandas as pd\n",
    "import matplotlib.pyplot as plt\n",
    "from matplotlib.animation import FuncAnimation\n",
    "%matplotlib qt"
   ]
  },
  {
   "cell_type": "code",
   "execution_count": 25,
   "id": "9a95fa35",
   "metadata": {},
   "outputs": [],
   "source": [
    "def initial_pop(lst_cities, n, dist_mat):  \n",
    "    # n -> population size\n",
    "    # lst_cities -> list of objects\n",
    "    generation = []\n",
    "    for i in range(n):\n",
    "        crom = lst_cities.copy()\n",
    "        random.shuffle(crom)\n",
    "        c = Path(crom)\n",
    "        f = cost(c, dist_mat)\n",
    "        c.set_fitness(cost = f)\n",
    "        generation.append(c)\n",
    "    return generation"
   ]
  },
  {
   "cell_type": "code",
   "execution_count": 26,
   "id": "65ce8696",
   "metadata": {},
   "outputs": [],
   "source": [
    "def gen_dist_matrix(data):\n",
    "    # data -> list of City objects\n",
    "    n = len(data)\n",
    "    mat = {} ##  Dic <first city, Dic <second city, distance> >\n",
    "    for i,point in enumerate(data): # point -> city\n",
    "        key = point.name\n",
    "        mat[key] = {}\n",
    "        for j in range(n):\n",
    "            # distination city\n",
    "            p2 = data[j]\n",
    "            c = p2.name\n",
    "            mat[key][c] = math.dist([point.x , point.y], [p2.x, p2.y])\n",
    "            \n",
    "    return mat"
   ]
  },
  {
   "cell_type": "code",
   "execution_count": 27,
   "id": "b57fc78c",
   "metadata": {},
   "outputs": [],
   "source": [
    "def initial_phromone_matrix(data, initial_pop):  \n",
    "    # data -> list of City objects\n",
    "    n = len(data)\n",
    "    phormone_mat = {} ##  Dic <first city, Dic <second city, phormone> >\n",
    "    \n",
    "    for i,point in enumerate(data): # point -> city\n",
    "        key = point.name\n",
    "        phormone_mat[key] = {}\n",
    "    \n",
    "    for i,point in enumerate(data): # point -> city\n",
    "        key = point.name\n",
    "        for j in range(n):\n",
    "            # distination city\n",
    "            p2 = data[j]\n",
    "            c = p2.name\n",
    "            r = random.random()\n",
    "            phormone_mat[key][c] = 0.0001\n",
    "    \n",
    "    phormone_mat = update_phromone_matrix(phormone_mat, initial_pop, roo = 0.9999)\n",
    "    return phormone_mat"
   ]
  },
  {
   "cell_type": "code",
   "execution_count": 28,
   "id": "ddf8108e",
   "metadata": {},
   "outputs": [],
   "source": [
    "def cost(path, mat):\n",
    "    # path -> object of Path\n",
    "    \n",
    "    total_cost = 0\n",
    "    lst = path.val\n",
    "    for i, gene in enumerate(lst):\n",
    "        if i == 0:\n",
    "            continue\n",
    "        total_cost += mat[gene.name][lst[i-1].name]\n",
    "        \n",
    "    total_cost += mat[lst[0].name][lst[-1].name]\n",
    "    return total_cost"
   ]
  },
  {
   "cell_type": "code",
   "execution_count": 29,
   "id": "c4aabb25",
   "metadata": {},
   "outputs": [],
   "source": [
    "def update_phromone_matrix(phormone_mat, gen, roo = 0.5):\n",
    "    new_phormone_mat = {}\n",
    "    # divide all matrix by (1-roo)\n",
    "    for key, dic in phormone_mat.items():\n",
    "        nw = {key: val*(1-roo) for key, val in dic.items()}\n",
    "        new_phormone_mat[key] = nw\n",
    "    \n",
    "    # sum each partial path to the matrix\n",
    "    for ant in gen:  # object of path\n",
    "        lst = ant.val\n",
    "        path_fit = ant.fitness\n",
    "        for i, gene in enumerate(lst):\n",
    "            if i == 0:\n",
    "                continue\n",
    "            new_phormone_mat[lst[i].name][lst[i-1].name] += path_fit\n",
    "            new_phormone_mat[lst[i-1].name][lst[i].name] += path_fit\n",
    "\n",
    "            new_phormone_mat[lst[0].name][lst[-1].name] += path_fit\n",
    "        new_phormone_mat[lst[-1].name][lst[0].name] += path_fit\n",
    "    return new_phormone_mat"
   ]
  },
  {
   "cell_type": "code",
   "execution_count": 30,
   "id": "18ee50a1",
   "metadata": {},
   "outputs": [],
   "source": [
    "def construction(data, dist_mat, phormone_mat):\n",
    "    alpha = 1\n",
    "    beta = 2\n",
    "    n = len(data)\n",
    "    gen = []\n",
    "    for i in range(n): # for 1 sol in population\n",
    "        vis = {}\n",
    "        # random start\n",
    "        start = random.randint(0,n-1)\n",
    "        city = data[start] # object\n",
    "        sol = [city]\n",
    "        vis[city.name] = 1\n",
    "        \n",
    "        while len(vis) < n:\n",
    "            p_city_all = {}\n",
    "            p_sum = 0\n",
    "            # calculate next step\n",
    "            for c in data:\n",
    "                if c.name not in vis:\n",
    "                    p = (phormone_mat[city.name][c.name] ** alpha) * ((1.0/dist_mat[city.name][c.name])** beta)\n",
    "                    p_city_all[c.name] = p\n",
    "                    p_sum += p\n",
    "            \n",
    "            # divide by sum\n",
    "            for c in p_city_all:\n",
    "                p_city_all[c] /= p_sum\n",
    "\n",
    "            # select max p\n",
    "            selected = max(p_city_all, key = p_city_all.get) # key -> city name\n",
    "            \n",
    "            # find the city\n",
    "            selected_city = None\n",
    "            for c in data:\n",
    "                if c.name == selected:\n",
    "                    selected_city = c\n",
    "                    \n",
    "            # append selected city\n",
    "            sol.append(selected_city)\n",
    "            vis[selected_city.name] = 1\n",
    "            city = selected_city\n",
    "        \n",
    "        # append solution\n",
    "        s = Path(sol)\n",
    "        f = cost(s, dist_mat)\n",
    "        s.set_fitness(f)\n",
    "        gen.append(s)\n",
    "    return gen     "
   ]
  },
  {
   "cell_type": "code",
   "execution_count": 49,
   "id": "c3818484",
   "metadata": {},
   "outputs": [],
   "source": [
    "def plot_sol(sol):\n",
    "    x = []\n",
    "    y = []\n",
    "    for s in sol.val:\n",
    "        x.append(s.x)\n",
    "        y.append(s.y)\n",
    "    plt.plot(x, y, marker = 'o')\n",
    "    plt.show()"
   ]
  },
  {
   "cell_type": "code",
   "execution_count": 31,
   "id": "27644074",
   "metadata": {},
   "outputs": [
    {
     "name": "stdout",
     "output_type": "stream",
     "text": [
      "[City: 0 -0.013306451612903232 0.03970238095238096\n",
      ", City: 1 -0.03215725806451614 0.02214285714285716\n",
      ", City: 2 -0.035262096774193556 -0.012678571428571428\n",
      ", City: 3 -0.010645161290322586 -0.011488095238095235\n",
      ", City: 4 0.004657258064516126 -0.02755952380952381\n",
      ", City: 5 0.03149193548387097 -0.015654761904761907\n",
      ", City: 6 0.04147177419354839 0.016488095238095246\n",
      ", City: 7 0.029495967741935483 0.04297619047619049\n",
      ", City: 8 0.012641129032258058 0.04654761904761906\n",
      ", City: 9 -0.0006653225806451668 0.03702380952380954\n",
      "]\n"
     ]
    }
   ],
   "source": [
    "# # to take input from the GUI\n",
    "# plt.plot(0,0)\n",
    "# d = plt.ginput(10)\n",
    "# data = [City(c,p[0],p[1]) for c,p in enumerate(d)]\n",
    "# print(data)"
   ]
  },
  {
   "cell_type": "code",
   "execution_count": 43,
   "id": "7fdea8c8",
   "metadata": {},
   "outputs": [
    {
     "data": {
      "text/html": [
       "<div>\n",
       "<style scoped>\n",
       "    .dataframe tbody tr th:only-of-type {\n",
       "        vertical-align: middle;\n",
       "    }\n",
       "\n",
       "    .dataframe tbody tr th {\n",
       "        vertical-align: top;\n",
       "    }\n",
       "\n",
       "    .dataframe thead th {\n",
       "        text-align: right;\n",
       "    }\n",
       "</style>\n",
       "<table border=\"1\" class=\"dataframe\">\n",
       "  <thead>\n",
       "    <tr style=\"text-align: right;\">\n",
       "      <th></th>\n",
       "      <th>x</th>\n",
       "      <th>y</th>\n",
       "      <th>City</th>\n",
       "    </tr>\n",
       "  </thead>\n",
       "  <tbody>\n",
       "    <tr>\n",
       "      <th>0</th>\n",
       "      <td>5.500000e-08</td>\n",
       "      <td>9.860000e-09</td>\n",
       "      <td>1</td>\n",
       "    </tr>\n",
       "    <tr>\n",
       "      <th>1</th>\n",
       "      <td>-2.887330e+01</td>\n",
       "      <td>-7.980000e-08</td>\n",
       "      <td>2</td>\n",
       "    </tr>\n",
       "    <tr>\n",
       "      <th>2</th>\n",
       "      <td>-7.929160e+01</td>\n",
       "      <td>-2.140330e+01</td>\n",
       "      <td>3</td>\n",
       "    </tr>\n",
       "    <tr>\n",
       "      <th>3</th>\n",
       "      <td>-1.465770e+01</td>\n",
       "      <td>-4.338960e+01</td>\n",
       "      <td>4</td>\n",
       "    </tr>\n",
       "    <tr>\n",
       "      <th>4</th>\n",
       "      <td>-6.474730e+01</td>\n",
       "      <td>2.189820e+01</td>\n",
       "      <td>5</td>\n",
       "    </tr>\n",
       "    <tr>\n",
       "      <th>5</th>\n",
       "      <td>-2.905850e+01</td>\n",
       "      <td>-4.321670e+01</td>\n",
       "      <td>6</td>\n",
       "    </tr>\n",
       "    <tr>\n",
       "      <th>6</th>\n",
       "      <td>-7.207850e+01</td>\n",
       "      <td>1.815810e-01</td>\n",
       "      <td>7</td>\n",
       "    </tr>\n",
       "    <tr>\n",
       "      <th>7</th>\n",
       "      <td>-3.603660e+01</td>\n",
       "      <td>-2.161350e+01</td>\n",
       "      <td>8</td>\n",
       "    </tr>\n",
       "    <tr>\n",
       "      <th>8</th>\n",
       "      <td>-5.048080e+01</td>\n",
       "      <td>7.374470e+00</td>\n",
       "      <td>9</td>\n",
       "    </tr>\n",
       "    <tr>\n",
       "      <th>9</th>\n",
       "      <td>-5.058590e+01</td>\n",
       "      <td>-2.158820e+01</td>\n",
       "      <td>10</td>\n",
       "    </tr>\n",
       "    <tr>\n",
       "      <th>10</th>\n",
       "      <td>-1.358190e-01</td>\n",
       "      <td>-2.872930e+01</td>\n",
       "      <td>11</td>\n",
       "    </tr>\n",
       "    <tr>\n",
       "      <th>11</th>\n",
       "      <td>-6.508660e+01</td>\n",
       "      <td>-3.606250e+01</td>\n",
       "      <td>12</td>\n",
       "    </tr>\n",
       "    <tr>\n",
       "      <th>12</th>\n",
       "      <td>-2.149830e+01</td>\n",
       "      <td>7.319420e+00</td>\n",
       "      <td>13</td>\n",
       "    </tr>\n",
       "    <tr>\n",
       "      <th>13</th>\n",
       "      <td>-5.756870e+01</td>\n",
       "      <td>-4.325060e+01</td>\n",
       "      <td>14</td>\n",
       "    </tr>\n",
       "    <tr>\n",
       "      <th>14</th>\n",
       "      <td>-4.307000e+01</td>\n",
       "      <td>1.455480e+01</td>\n",
       "      <td>15</td>\n",
       "    </tr>\n",
       "  </tbody>\n",
       "</table>\n",
       "</div>"
      ],
      "text/plain": [
       "               x             y  City\n",
       "0   5.500000e-08  9.860000e-09     1\n",
       "1  -2.887330e+01 -7.980000e-08     2\n",
       "2  -7.929160e+01 -2.140330e+01     3\n",
       "3  -1.465770e+01 -4.338960e+01     4\n",
       "4  -6.474730e+01  2.189820e+01     5\n",
       "5  -2.905850e+01 -4.321670e+01     6\n",
       "6  -7.207850e+01  1.815810e-01     7\n",
       "7  -3.603660e+01 -2.161350e+01     8\n",
       "8  -5.048080e+01  7.374470e+00     9\n",
       "9  -5.058590e+01 -2.158820e+01    10\n",
       "10 -1.358190e-01 -2.872930e+01    11\n",
       "11 -6.508660e+01 -3.606250e+01    12\n",
       "12 -2.149830e+01  7.319420e+00    13\n",
       "13 -5.756870e+01 -4.325060e+01    14\n",
       "14 -4.307000e+01  1.455480e+01    15"
      ]
     },
     "execution_count": 43,
     "metadata": {},
     "output_type": "execute_result"
    }
   ],
   "source": [
    "# input from file\n",
    "raw = pd.read_csv('15-Points.csv')\n",
    "raw"
   ]
  },
  {
   "cell_type": "code",
   "execution_count": 46,
   "id": "eeabf521",
   "metadata": {},
   "outputs": [
    {
     "data": {
      "text/plain": [
       "<matplotlib.collections.PathCollection at 0x7fdd4563ffd0>"
      ]
     },
     "execution_count": 46,
     "metadata": {},
     "output_type": "execute_result"
    }
   ],
   "source": [
    "plt.scatter(raw['x'], raw['y'], marker = 'o')"
   ]
  },
  {
   "cell_type": "code",
   "execution_count": 34,
   "id": "5f249055",
   "metadata": {},
   "outputs": [],
   "source": [
    "data = [City(c,x,y) for c,x,y in zip(raw['City'], raw['x'], raw['y'])]\n",
    "print(data[0])"
   ]
  },
  {
   "cell_type": "code",
   "execution_count": 35,
   "id": "58a11d1f",
   "metadata": {
    "scrolled": true
   },
   "outputs": [],
   "source": [
    "n = len(data)\n",
    "pop_n = 200\n",
    "\n",
    "dist_mat = gen_dist_matrix(data)\n",
    "gen = initial_pop(data, pop_n, dist_mat)  ## list of chromosomes\n",
    "phormone_mat = initial_phromone_matrix(data, gen)\n",
    "\n",
    "initial_gen = gen"
   ]
  },
  {
   "cell_type": "code",
   "execution_count": 36,
   "id": "250298b3",
   "metadata": {},
   "outputs": [
    {
     "data": {
      "text/plain": [
       "0.5180500305993647"
      ]
     },
     "execution_count": 36,
     "metadata": {},
     "output_type": "execute_result"
    }
   ],
   "source": [
    "initial_gen[0].cost"
   ]
  },
  {
   "cell_type": "code",
   "execution_count": 50,
   "id": "ba0d5d47",
   "metadata": {},
   "outputs": [],
   "source": [
    "plot_sol(initial_gen[0])"
   ]
  },
  {
   "cell_type": "code",
   "execution_count": 39,
   "id": "a10edec9",
   "metadata": {},
   "outputs": [],
   "source": [
    "for i in range(10):\n",
    "    # iteration\n",
    "    gen = construction(data, dist_mat, phormone_mat)\n",
    "    phormone_mat = update_phromone_matrix(phormone_mat, gen, roo = 0.7)"
   ]
  },
  {
   "cell_type": "code",
   "execution_count": 40,
   "id": "5b135691",
   "metadata": {},
   "outputs": [
    {
     "name": "stdout",
     "output_type": "stream",
     "text": [
      "[City: 1 -0.03215725806451614 0.02214285714285716\n",
      ", City: 0 -0.013306451612903232 0.03970238095238096\n",
      ", City: 9 -0.0006653225806451668 0.03702380952380954\n",
      ", City: 8 0.012641129032258058 0.04654761904761906\n",
      ", City: 7 0.029495967741935483 0.04297619047619049\n",
      ", City: 6 0.04147177419354839 0.016488095238095246\n",
      ", City: 5 0.03149193548387097 -0.015654761904761907\n",
      ", City: 4 0.004657258064516126 -0.02755952380952381\n",
      ", City: 3 -0.010645161290322586 -0.011488095238095235\n",
      ", City: 2 -0.035262096774193556 -0.012678571428571428\n",
      "]\n",
      "0.2461560496512883\n"
     ]
    },
    {
     "data": {
      "text/plain": []
     },
     "execution_count": 40,
     "metadata": {},
     "output_type": "execute_result"
    }
   ],
   "source": [
    "best = max(gen, key = lambda x: x.fitness)\n",
    "best"
   ]
  },
  {
   "cell_type": "code",
   "execution_count": 41,
   "id": "867e4635",
   "metadata": {},
   "outputs": [],
   "source": [
    "# plot_sol(best)"
   ]
  },
  {
   "cell_type": "code",
   "execution_count": 42,
   "id": "b3e2d43a",
   "metadata": {},
   "outputs": [],
   "source": [
    "x = []\n",
    "y = []\n",
    "for s in best.val:\n",
    "    x.append(s.x)\n",
    "    y.append(s.y)\n",
    "x.append(best.val[0].x)\n",
    "y.append(best.val[0].y)\n",
    "\n",
    "# find fig limits\n",
    "xl = max(x) + 0.2*max(x)\n",
    "yl = max(y) + 0.2*max(y)\n",
    "xlm = min(x) + 0.2*min(x)\n",
    "ylm = min(y) + 0.2*min(y)\n",
    "\n",
    "fig, ax = plt.subplots()\n",
    "\n",
    "def animate(i):\n",
    "    ax.clear()\n",
    "    ax.plot(x[:i+1], y[:i+1], marker = 'o')\n",
    "\n",
    "    plt.xlim(xlm, xl)\n",
    "    plt.ylim(ylm, yl)\n",
    "\n",
    "ani = FuncAnimation(fig, animate, frames=20, interval=300, repeat=False)\n",
    "plt.show()"
   ]
  },
  {
   "cell_type": "code",
   "execution_count": null,
   "id": "985775f8",
   "metadata": {},
   "outputs": [],
   "source": []
  },
  {
   "cell_type": "code",
   "execution_count": null,
   "id": "35b11c2e",
   "metadata": {},
   "outputs": [],
   "source": []
  },
  {
   "cell_type": "code",
   "execution_count": null,
   "id": "27171c9b",
   "metadata": {
    "scrolled": true
   },
   "outputs": [],
   "source": []
  },
  {
   "cell_type": "code",
   "execution_count": null,
   "id": "31e920a9",
   "metadata": {},
   "outputs": [],
   "source": []
  },
  {
   "cell_type": "code",
   "execution_count": null,
   "id": "75906512",
   "metadata": {},
   "outputs": [],
   "source": []
  },
  {
   "cell_type": "code",
   "execution_count": null,
   "id": "df2beda5",
   "metadata": {},
   "outputs": [],
   "source": []
  },
  {
   "cell_type": "code",
   "execution_count": null,
   "id": "118cc05f",
   "metadata": {},
   "outputs": [],
   "source": []
  },
  {
   "cell_type": "code",
   "execution_count": null,
   "id": "14202eb1",
   "metadata": {},
   "outputs": [],
   "source": []
  },
  {
   "cell_type": "code",
   "execution_count": null,
   "id": "90509b95",
   "metadata": {},
   "outputs": [],
   "source": []
  },
  {
   "cell_type": "code",
   "execution_count": null,
   "id": "f936e52e",
   "metadata": {},
   "outputs": [],
   "source": []
  }
 ],
 "metadata": {
  "kernelspec": {
   "display_name": "Python 3 (ipykernel)",
   "language": "python",
   "name": "python3"
  },
  "language_info": {
   "codemirror_mode": {
    "name": "ipython",
    "version": 3
   },
   "file_extension": ".py",
   "mimetype": "text/x-python",
   "name": "python",
   "nbconvert_exporter": "python",
   "pygments_lexer": "ipython3",
   "version": "3.9.13"
  }
 },
 "nbformat": 4,
 "nbformat_minor": 5
}
