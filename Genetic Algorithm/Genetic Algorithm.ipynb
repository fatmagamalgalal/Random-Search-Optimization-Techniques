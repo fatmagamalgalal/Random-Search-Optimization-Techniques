{
 "cells": [
  {
   "cell_type": "code",
   "execution_count": 1,
   "id": "41c5fc9a",
   "metadata": {},
   "outputs": [],
   "source": [
    "class City:\n",
    "    def __init__(self, n, x, y):\n",
    "        self.name = n\n",
    "        self.x = x\n",
    "        self.y = y\n",
    "        \n",
    "    def __repr__(self):\n",
    "        return 'City: ' + str(self.name) + ' ' + str(self.x) + ' ' + str(self.y) + '\\n'"
   ]
  },
  {
   "cell_type": "code",
   "execution_count": 2,
   "id": "484b9420",
   "metadata": {},
   "outputs": [],
   "source": [
    "class Chromosome:\n",
    "    def __init__(self, lst):\n",
    "        self.val = lst\n",
    "        self.fitness = -1\n",
    "        self.cost = -1\n",
    "    \n",
    "    def set_fitness(self, cost):\n",
    "        self.cost = cost\n",
    "        self.fitness = 1.0/cost\n",
    "\n",
    "    def __repr__(self):\n",
    "        print(self.val)\n",
    "        print(self.cost)\n",
    "        return ''"
   ]
  },
  {
   "cell_type": "code",
   "execution_count": 3,
   "id": "489a3832",
   "metadata": {},
   "outputs": [],
   "source": [
    "import math\n",
    "import random\n",
    "import numpy as np\n",
    "import pandas as pd\n",
    "from copy import deepcopy\n",
    "import matplotlib.pyplot as plt"
   ]
  },
  {
   "cell_type": "code",
   "execution_count": 4,
   "id": "58c8d5a0",
   "metadata": {},
   "outputs": [],
   "source": [
    "def initial_pop(lst_cities, n, dist_mat):  \n",
    "    # n -> population size\n",
    "    # lst_cities -> list of objects\n",
    "    generation = []\n",
    "    for i in range(n):\n",
    "        crom = lst_cities.copy()\n",
    "        random.shuffle(crom)\n",
    "        \n",
    "        c = Chromosome(crom)\n",
    "        f = cost(c, dist_mat)\n",
    "        c.set_fitness(f)\n",
    "        generation.append(c)\n",
    "    return generation"
   ]
  },
  {
   "cell_type": "code",
   "execution_count": 5,
   "id": "62cb6a9e",
   "metadata": {},
   "outputs": [],
   "source": [
    "def gen_dist_matrix(data):\n",
    "    # data -> list of City objects\n",
    "    n = len(data)\n",
    "    mat = {} ##  Dic <first city, Dic <second city, distance> >\n",
    "    for i,point in enumerate(data): # point -> city\n",
    "        key = point.name\n",
    "        mat[key] = {}\n",
    "        for j in range(n):\n",
    "            # distination city\n",
    "            p2 = data[j]\n",
    "            c = p2.name\n",
    "            mat[key][c] = math.dist([point.x , point.y], [p2.x, p2.y])     \n",
    "    return mat"
   ]
  },
  {
   "cell_type": "code",
   "execution_count": 6,
   "id": "17f3bb03",
   "metadata": {},
   "outputs": [],
   "source": [
    "def cost(crom, mat):\n",
    "    # crom -> object of Chromosome\n",
    "    total_cost = 0\n",
    "    lst = crom.val\n",
    "    for i, gene in enumerate(lst):\n",
    "        if i == 0:\n",
    "            continue\n",
    "        total_cost += mat[gene.name][lst[i-1].name]\n",
    "        \n",
    "    total_cost += mat[lst[0].name][lst[-1].name]\n",
    "    return total_cost"
   ]
  },
  {
   "cell_type": "code",
   "execution_count": null,
   "id": "5199ecb9",
   "metadata": {},
   "outputs": [],
   "source": []
  },
  {
   "cell_type": "code",
   "execution_count": 7,
   "id": "63e2db51",
   "metadata": {},
   "outputs": [],
   "source": [
    "def Elitism(percent, old_pop):\n",
    "    n = int(percent*len(old_pop))\n",
    "    \n",
    "    # choose most n fittest chromosomes\n",
    "    sort = sorted(old_pop, key = lambda x: x.fitness, reverse=True)\n",
    "    return sort[:n+1], sort[n+1:]"
   ]
  },
  {
   "cell_type": "code",
   "execution_count": 8,
   "id": "db05b0e0",
   "metadata": {},
   "outputs": [],
   "source": [
    "def tournment_selection(pop, n_candidates):\n",
    "    candidates = random.choices(pop, k=n_candidates)\n",
    "    return max(candidates, key = lambda x: x.fitness)\n",
    "     "
   ]
  },
  {
   "cell_type": "code",
   "execution_count": null,
   "id": "afa5add6",
   "metadata": {},
   "outputs": [],
   "source": []
  },
  {
   "cell_type": "code",
   "execution_count": 9,
   "id": "183819a8",
   "metadata": {},
   "outputs": [],
   "source": [
    "def partial_crossover(p1, p2, dist_mat):\n",
    "    ln = len(p1.val)\n",
    "    # random split range\n",
    "    range1 = random.randint(0,ln-1)\n",
    "    range2 = random.randint(0,ln-1)\n",
    "    if range1 > range2:\n",
    "        range1, range2 = range2, range1\n",
    "        \n",
    "    # children\n",
    "    c1 = deepcopy(p1)\n",
    "    c2 = deepcopy(p2)\n",
    "    # for child1\n",
    "    for gene in range(range1, range2+1):\n",
    "        # find the duplicated city\n",
    "        dup = p2.val[gene] # city\n",
    "        dup_i = [d.name for d in c1.val].index(dup.name)\n",
    "        c1.val[gene], c1.val[dup_i] = c1.val[dup_i], c1.val[gene]\n",
    "        # swap between parent and child\n",
    "        c1.val[gene] = p2.val[gene]\n",
    "    \n",
    "    # for child2\n",
    "    for gene in range(range1, range2+1):\n",
    "        # find the duplicated city\n",
    "        dup = p1.val[gene] # city\n",
    "        dup_i = [d.name for d in c2.val].index(dup.name)\n",
    "        c2.val[gene], c2.val[dup_i] = c2.val[dup_i], c2.val[gene]\n",
    "        # swap between parent and child\n",
    "        c2.val[gene] = p1.val[gene]\n",
    "    \n",
    "    c1.set_fitness(cost(c1, dist_mat)) \n",
    "    c2.set_fitness(cost(c2, dist_mat)) \n",
    "    return c1, c2"
   ]
  },
  {
   "cell_type": "code",
   "execution_count": 10,
   "id": "5a03ca66",
   "metadata": {},
   "outputs": [],
   "source": [
    "def crossover_pop(prob, old_pop, n):\n",
    "    # n -> number of chrom to be generated\n",
    "    n_candidates = 5\n",
    "    new_pop = []\n",
    "    while len(new_pop) < n:\n",
    "        # tournment selection\n",
    "        parent1 = tournment_selection(old_pop, n_candidates)\n",
    "        parent2 = tournment_selection(old_pop, n_candidates)\n",
    "        \n",
    "        # generate random prob\n",
    "        r = random.random()\n",
    "        if r < prob: # apply crossover\n",
    "            c1, c2 = partial_crossover(parent1, parent2, dist_mat)\n",
    "            if c1.fitness > parent1.fitness:\n",
    "                new_pop.append(c1)\n",
    "            else:\n",
    "                new_pop.append(parent1)\n",
    "            if c2.fitness > parent2.fitness:\n",
    "                new_pop.append(c2)\n",
    "            else:\n",
    "                new_pop.append(parent2)\n",
    "        else:  # pass the parents to the new pop\n",
    "            new_pop.append(parent1)\n",
    "            new_pop.append(parent2)\n",
    "    # check if new_pop size == n\n",
    "    if len(new_pop) != n:\n",
    "        new_pop.pop()\n",
    "    return new_pop"
   ]
  },
  {
   "cell_type": "code",
   "execution_count": 11,
   "id": "2d039374",
   "metadata": {},
   "outputs": [],
   "source": [
    "def mutation(prob, pop, dist_mat):\n",
    "    new_pop = []\n",
    "    for i,chrom in enumerate(pop):\n",
    "        c = deepcopy(chrom)\n",
    "        # generate random prob\n",
    "        r = random.random()\n",
    "        if r < prob: # apply mutation - swap 2 random genes\n",
    "            ln = len(chrom.val)\n",
    "            # random split range\n",
    "            gene1 = random.randint(0,ln-1)\n",
    "            gene2 = random.randint(0,ln-1)\n",
    "            c.val[gene1], c.val[gene2] = c.val[gene2], c.val[gene1]\n",
    "#         else:  # pass as it is\n",
    "        c.set_fitness(cost(c, dist_mat)) \n",
    "        new_pop.append(c)\n",
    "    return new_pop"
   ]
  },
  {
   "cell_type": "code",
   "execution_count": null,
   "id": "83d2f83b",
   "metadata": {},
   "outputs": [],
   "source": [
    "# # to take input from the GUI\n",
    "# plt.plot(0,0)\n",
    "# d = plt.ginput(10)\n",
    "# data = [City(c,p[0],p[1]) for c,p in enumerate(d)]\n",
    "# print(data)"
   ]
  },
  {
   "cell_type": "code",
   "execution_count": 12,
   "id": "64f0141a",
   "metadata": {},
   "outputs": [
    {
     "data": {
      "text/html": [
       "<div>\n",
       "<style scoped>\n",
       "    .dataframe tbody tr th:only-of-type {\n",
       "        vertical-align: middle;\n",
       "    }\n",
       "\n",
       "    .dataframe tbody tr th {\n",
       "        vertical-align: top;\n",
       "    }\n",
       "\n",
       "    .dataframe thead th {\n",
       "        text-align: right;\n",
       "    }\n",
       "</style>\n",
       "<table border=\"1\" class=\"dataframe\">\n",
       "  <thead>\n",
       "    <tr style=\"text-align: right;\">\n",
       "      <th></th>\n",
       "      <th>x</th>\n",
       "      <th>y</th>\n",
       "      <th>City</th>\n",
       "    </tr>\n",
       "  </thead>\n",
       "  <tbody>\n",
       "    <tr>\n",
       "      <th>0</th>\n",
       "      <td>5.500000e-08</td>\n",
       "      <td>9.860000e-09</td>\n",
       "      <td>1</td>\n",
       "    </tr>\n",
       "    <tr>\n",
       "      <th>1</th>\n",
       "      <td>-2.887330e+01</td>\n",
       "      <td>-7.980000e-08</td>\n",
       "      <td>2</td>\n",
       "    </tr>\n",
       "    <tr>\n",
       "      <th>2</th>\n",
       "      <td>-7.929160e+01</td>\n",
       "      <td>-2.140330e+01</td>\n",
       "      <td>3</td>\n",
       "    </tr>\n",
       "    <tr>\n",
       "      <th>3</th>\n",
       "      <td>-1.465770e+01</td>\n",
       "      <td>-4.338960e+01</td>\n",
       "      <td>4</td>\n",
       "    </tr>\n",
       "    <tr>\n",
       "      <th>4</th>\n",
       "      <td>-6.474730e+01</td>\n",
       "      <td>2.189820e+01</td>\n",
       "      <td>5</td>\n",
       "    </tr>\n",
       "    <tr>\n",
       "      <th>5</th>\n",
       "      <td>-2.905850e+01</td>\n",
       "      <td>-4.321670e+01</td>\n",
       "      <td>6</td>\n",
       "    </tr>\n",
       "    <tr>\n",
       "      <th>6</th>\n",
       "      <td>-7.207850e+01</td>\n",
       "      <td>1.815810e-01</td>\n",
       "      <td>7</td>\n",
       "    </tr>\n",
       "    <tr>\n",
       "      <th>7</th>\n",
       "      <td>-3.603660e+01</td>\n",
       "      <td>-2.161350e+01</td>\n",
       "      <td>8</td>\n",
       "    </tr>\n",
       "    <tr>\n",
       "      <th>8</th>\n",
       "      <td>-5.048080e+01</td>\n",
       "      <td>7.374470e+00</td>\n",
       "      <td>9</td>\n",
       "    </tr>\n",
       "    <tr>\n",
       "      <th>9</th>\n",
       "      <td>-5.058590e+01</td>\n",
       "      <td>-2.158820e+01</td>\n",
       "      <td>10</td>\n",
       "    </tr>\n",
       "    <tr>\n",
       "      <th>10</th>\n",
       "      <td>-1.358190e-01</td>\n",
       "      <td>-2.872930e+01</td>\n",
       "      <td>11</td>\n",
       "    </tr>\n",
       "    <tr>\n",
       "      <th>11</th>\n",
       "      <td>-6.508660e+01</td>\n",
       "      <td>-3.606250e+01</td>\n",
       "      <td>12</td>\n",
       "    </tr>\n",
       "    <tr>\n",
       "      <th>12</th>\n",
       "      <td>-2.149830e+01</td>\n",
       "      <td>7.319420e+00</td>\n",
       "      <td>13</td>\n",
       "    </tr>\n",
       "    <tr>\n",
       "      <th>13</th>\n",
       "      <td>-5.756870e+01</td>\n",
       "      <td>-4.325060e+01</td>\n",
       "      <td>14</td>\n",
       "    </tr>\n",
       "    <tr>\n",
       "      <th>14</th>\n",
       "      <td>-4.307000e+01</td>\n",
       "      <td>1.455480e+01</td>\n",
       "      <td>15</td>\n",
       "    </tr>\n",
       "  </tbody>\n",
       "</table>\n",
       "</div>"
      ],
      "text/plain": [
       "               x             y  City\n",
       "0   5.500000e-08  9.860000e-09     1\n",
       "1  -2.887330e+01 -7.980000e-08     2\n",
       "2  -7.929160e+01 -2.140330e+01     3\n",
       "3  -1.465770e+01 -4.338960e+01     4\n",
       "4  -6.474730e+01  2.189820e+01     5\n",
       "5  -2.905850e+01 -4.321670e+01     6\n",
       "6  -7.207850e+01  1.815810e-01     7\n",
       "7  -3.603660e+01 -2.161350e+01     8\n",
       "8  -5.048080e+01  7.374470e+00     9\n",
       "9  -5.058590e+01 -2.158820e+01    10\n",
       "10 -1.358190e-01 -2.872930e+01    11\n",
       "11 -6.508660e+01 -3.606250e+01    12\n",
       "12 -2.149830e+01  7.319420e+00    13\n",
       "13 -5.756870e+01 -4.325060e+01    14\n",
       "14 -4.307000e+01  1.455480e+01    15"
      ]
     },
     "execution_count": 12,
     "metadata": {},
     "output_type": "execute_result"
    }
   ],
   "source": [
    "raw = pd.read_csv('15-Points.csv')\n",
    "raw"
   ]
  },
  {
   "cell_type": "code",
   "execution_count": 13,
   "id": "aa76f024",
   "metadata": {
    "scrolled": true
   },
   "outputs": [
    {
     "name": "stdout",
     "output_type": "stream",
     "text": [
      "City: 3 -79.2916 -21.4033\n",
      "\n"
     ]
    }
   ],
   "source": [
    "data = [City(c,x,y) for c,x,y in zip(raw['City'], raw['x'], raw['y'])]\n",
    "print(data[2])"
   ]
  },
  {
   "cell_type": "code",
   "execution_count": 25,
   "id": "2cb7bd23",
   "metadata": {},
   "outputs": [],
   "source": [
    "n = len(data)\n",
    "pop_n = 100\n",
    "\n",
    "dist_mat = gen_dist_matrix(data)\n",
    "gen = initial_pop(data, pop_n, dist_mat)  ## list of chromosomes\n"
   ]
  },
  {
   "cell_type": "code",
   "execution_count": 26,
   "id": "28628cfd",
   "metadata": {},
   "outputs": [],
   "source": [
    "for i in range(100):\n",
    "    # iteration\n",
    "    new_pop = []\n",
    "    elite, rest = Elitism(0.06, gen) \n",
    "    crossover_count = len(rest)\n",
    "    crossed_over = crossover_pop(0.8, gen, crossover_count) #0.8\n",
    "    mutated = mutation(0.3, crossed_over, dist_mat) #0.6\n",
    "    new_pop.extend(elite)\n",
    "    new_pop.extend(mutated)\n",
    "    gen = new_pop.copy()\n"
   ]
  },
  {
   "cell_type": "code",
   "execution_count": 28,
   "id": "35f1efd0",
   "metadata": {
    "scrolled": true
   },
   "outputs": [
    {
     "name": "stdout",
     "output_type": "stream",
     "text": [
      "[City: 5 -64.7473 21.8982\n",
      ", City: 9 -50.4808 7.37447\n",
      ", City: 15 -43.07 14.5548\n",
      ", City: 2 -28.8733 -7.98e-08\n",
      ", City: 13 -21.4983 7.31942\n",
      ", City: 1 5.5e-08 9.86e-09\n",
      ", City: 11 -0.135819 -28.7293\n",
      ", City: 4 -14.6577 -43.3896\n",
      ", City: 6 -29.0585 -43.2167\n",
      ", City: 8 -36.0366 -21.6135\n",
      ", City: 10 -50.5859 -21.5882\n",
      ", City: 14 -57.5687 -43.2506\n",
      ", City: 12 -65.0866 -36.0625\n",
      ", City: 3 -79.2916 -21.4033\n",
      ", City: 7 -72.0785 0.181581\n",
      "]\n",
      "284.3810904080332\n"
     ]
    },
    {
     "data": {
      "text/plain": []
     },
     "execution_count": 28,
     "metadata": {},
     "output_type": "execute_result"
    }
   ],
   "source": [
    "best = max(gen, key = lambda x: x.fitness)\n",
    "best"
   ]
  },
  {
   "cell_type": "code",
   "execution_count": null,
   "id": "dfa6de3c",
   "metadata": {},
   "outputs": [],
   "source": []
  },
  {
   "cell_type": "code",
   "execution_count": 17,
   "id": "87fd4787",
   "metadata": {},
   "outputs": [],
   "source": [
    "def plot_sol(sol):\n",
    "    x = []\n",
    "    y = []\n",
    "    for s in sol.val:\n",
    "        x.append(s.x)\n",
    "        y.append(s.y)\n",
    "    plt.plot(x, y, marker = 'o')\n",
    "    plt.show()"
   ]
  },
  {
   "cell_type": "code",
   "execution_count": 18,
   "id": "b1c7f680",
   "metadata": {},
   "outputs": [],
   "source": [
    "# plot_sol(best)"
   ]
  },
  {
   "cell_type": "code",
   "execution_count": 19,
   "id": "c20d8ab8",
   "metadata": {},
   "outputs": [],
   "source": [
    "from matplotlib.animation import FuncAnimation\n",
    "%matplotlib qt"
   ]
  },
  {
   "cell_type": "code",
   "execution_count": 29,
   "id": "28c561e3",
   "metadata": {},
   "outputs": [],
   "source": [
    "x = []\n",
    "y = []\n",
    "for s in best.val:\n",
    "    x.append(s.x)\n",
    "    y.append(s.y)\n",
    "x.append(best.val[0].x)\n",
    "y.append(best.val[0].y)\n",
    "\n",
    "fig, ax = plt.subplots()\n",
    "\n",
    "def animate(i):\n",
    "    ax.clear()\n",
    "    ax.plot(x[:i+1], y[:i+1], marker = 'o')\n",
    "\n",
    "    plt.ylim(-50, 30)\n",
    "    plt.xlim(-90, 10)\n",
    "\n",
    "ani = FuncAnimation(fig, animate, frames=20, interval=300, repeat=False)\n",
    "plt.show()"
   ]
  },
  {
   "cell_type": "code",
   "execution_count": null,
   "id": "10b7ce8d",
   "metadata": {},
   "outputs": [],
   "source": []
  },
  {
   "cell_type": "code",
   "execution_count": null,
   "id": "42161aee",
   "metadata": {},
   "outputs": [],
   "source": []
  },
  {
   "cell_type": "code",
   "execution_count": null,
   "id": "2f68bf9b",
   "metadata": {},
   "outputs": [],
   "source": []
  },
  {
   "cell_type": "code",
   "execution_count": null,
   "id": "b12b4741",
   "metadata": {},
   "outputs": [],
   "source": [
    "data2 = [City(c,p[0],p[1]) for c,p in enumerate(d)]\n",
    "print(data2)"
   ]
  },
  {
   "cell_type": "code",
   "execution_count": null,
   "id": "3264cc41",
   "metadata": {},
   "outputs": [],
   "source": [
    "data = data2"
   ]
  }
 ],
 "metadata": {
  "kernelspec": {
   "display_name": "Python 3 (ipykernel)",
   "language": "python",
   "name": "python3"
  },
  "language_info": {
   "codemirror_mode": {
    "name": "ipython",
    "version": 3
   },
   "file_extension": ".py",
   "mimetype": "text/x-python",
   "name": "python",
   "nbconvert_exporter": "python",
   "pygments_lexer": "ipython3",
   "version": "3.9.13"
  }
 },
 "nbformat": 4,
 "nbformat_minor": 5
}
